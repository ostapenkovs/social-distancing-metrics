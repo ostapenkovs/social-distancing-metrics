{
 "metadata": {
  "language_info": {
   "codemirror_mode": {
    "name": "ipython",
    "version": 3
   },
   "file_extension": ".py",
   "mimetype": "text/x-python",
   "name": "python",
   "nbconvert_exporter": "python",
   "pygments_lexer": "ipython3",
   "version": "3.8.8"
  },
  "orig_nbformat": 2,
  "kernelspec": {
   "name": "python388jvsc74a57bd03de20a99852e7c453cae23bade0d464480b343c4fbd0ec5b9fb0cce88a80efbd",
   "display_name": "Python 3.8.8 64-bit ('.venv': venv)"
  },
  "metadata": {
   "interpreter": {
    "hash": "3de20a99852e7c453cae23bade0d464480b343c4fbd0ec5b9fb0cce88a80efbd"
   }
  }
 },
 "nbformat": 4,
 "nbformat_minor": 2,
 "cells": [
  {
   "cell_type": "code",
   "execution_count": 1,
   "metadata": {},
   "outputs": [],
   "source": [
    "import numpy as np\n",
    "import pandas as pd\n",
    "import matplotlib.pyplot as plt\n",
    "import seaborn as sns\n",
    "import json\n",
    "from collections import Counter"
   ]
  },
  {
   "cell_type": "code",
   "execution_count": 2,
   "metadata": {},
   "outputs": [],
   "source": [
    "data = pd.read_csv(\"sg_ca_data.csv\", usecols=['county_fips','date_range_start','bucketed_distance_travelled'])"
   ]
  },
  {
   "cell_type": "code",
   "execution_count": 3,
   "metadata": {},
   "outputs": [],
   "source": [
    "df = data[['county_fips','date_range_start','bucketed_distance_travelled']].copy()"
   ]
  },
  {
   "cell_type": "code",
   "execution_count": 4,
   "metadata": {},
   "outputs": [
    {
     "output_type": "execute_result",
     "data": {
      "text/plain": [
       "   county_fips           date_range_start  \\\n",
       "0         6001  2019-12-21 08:00:00+00:00   \n",
       "1         6019  2019-12-21 08:00:00+00:00   \n",
       "2         6021  2019-12-21 08:00:00+00:00   \n",
       "3         6029  2019-12-21 08:00:00+00:00   \n",
       "4         6031  2019-12-21 08:00:00+00:00   \n",
       "5         6037  2019-12-21 08:00:00+00:00   \n",
       "6         6037  2019-12-21 08:00:00+00:00   \n",
       "7         6037  2019-12-21 08:00:00+00:00   \n",
       "8         6037  2019-12-21 08:00:00+00:00   \n",
       "9         6037  2019-12-21 08:00:00+00:00   \n",
       "\n",
       "                         bucketed_distance_travelled  \n",
       "0  {\"16001-50000\":4,\"0\":27,\">50000\":5,\"2001-8000\"...  \n",
       "1  {\"16001-50000\":5,\"0\":26,\">50000\":1,\"2001-8000\"...  \n",
       "2  {\"16001-50000\":29,\"0\":27,\">50000\":15,\"2001-800...  \n",
       "3  {\"16001-50000\":3,\"0\":23,\">50000\":22,\"2001-8000...  \n",
       "4  {\"16001-50000\":17,\"0\":23,\">50000\":14,\"2001-800...  \n",
       "5  {\"16001-50000\":6,\"0\":17,\">50000\":5,\"2001-8000\"...  \n",
       "6  {\"16001-50000\":16,\"0\":41,\">50000\":12,\"2001-800...  \n",
       "7  {\"16001-50000\":8,\"0\":19,\">50000\":5,\"2001-8000\"...  \n",
       "8  {\"16001-50000\":7,\"0\":14,\">50000\":2,\"2001-8000\"...  \n",
       "9  {\"0\":29,\">50000\":17,\"2001-8000\":13,\"1-1000\":1,...  "
      ],
      "text/html": "<div>\n<style scoped>\n    .dataframe tbody tr th:only-of-type {\n        vertical-align: middle;\n    }\n\n    .dataframe tbody tr th {\n        vertical-align: top;\n    }\n\n    .dataframe thead th {\n        text-align: right;\n    }\n</style>\n<table border=\"1\" class=\"dataframe\">\n  <thead>\n    <tr style=\"text-align: right;\">\n      <th></th>\n      <th>county_fips</th>\n      <th>date_range_start</th>\n      <th>bucketed_distance_travelled</th>\n    </tr>\n  </thead>\n  <tbody>\n    <tr>\n      <th>0</th>\n      <td>6001</td>\n      <td>2019-12-21 08:00:00+00:00</td>\n      <td>{\"16001-50000\":4,\"0\":27,\"&gt;50000\":5,\"2001-8000\"...</td>\n    </tr>\n    <tr>\n      <th>1</th>\n      <td>6019</td>\n      <td>2019-12-21 08:00:00+00:00</td>\n      <td>{\"16001-50000\":5,\"0\":26,\"&gt;50000\":1,\"2001-8000\"...</td>\n    </tr>\n    <tr>\n      <th>2</th>\n      <td>6021</td>\n      <td>2019-12-21 08:00:00+00:00</td>\n      <td>{\"16001-50000\":29,\"0\":27,\"&gt;50000\":15,\"2001-800...</td>\n    </tr>\n    <tr>\n      <th>3</th>\n      <td>6029</td>\n      <td>2019-12-21 08:00:00+00:00</td>\n      <td>{\"16001-50000\":3,\"0\":23,\"&gt;50000\":22,\"2001-8000...</td>\n    </tr>\n    <tr>\n      <th>4</th>\n      <td>6031</td>\n      <td>2019-12-21 08:00:00+00:00</td>\n      <td>{\"16001-50000\":17,\"0\":23,\"&gt;50000\":14,\"2001-800...</td>\n    </tr>\n    <tr>\n      <th>5</th>\n      <td>6037</td>\n      <td>2019-12-21 08:00:00+00:00</td>\n      <td>{\"16001-50000\":6,\"0\":17,\"&gt;50000\":5,\"2001-8000\"...</td>\n    </tr>\n    <tr>\n      <th>6</th>\n      <td>6037</td>\n      <td>2019-12-21 08:00:00+00:00</td>\n      <td>{\"16001-50000\":16,\"0\":41,\"&gt;50000\":12,\"2001-800...</td>\n    </tr>\n    <tr>\n      <th>7</th>\n      <td>6037</td>\n      <td>2019-12-21 08:00:00+00:00</td>\n      <td>{\"16001-50000\":8,\"0\":19,\"&gt;50000\":5,\"2001-8000\"...</td>\n    </tr>\n    <tr>\n      <th>8</th>\n      <td>6037</td>\n      <td>2019-12-21 08:00:00+00:00</td>\n      <td>{\"16001-50000\":7,\"0\":14,\"&gt;50000\":2,\"2001-8000\"...</td>\n    </tr>\n    <tr>\n      <th>9</th>\n      <td>6037</td>\n      <td>2019-12-21 08:00:00+00:00</td>\n      <td>{\"0\":29,\"&gt;50000\":17,\"2001-8000\":13,\"1-1000\":1,...</td>\n    </tr>\n  </tbody>\n</table>\n</div>"
     },
     "metadata": {},
     "execution_count": 4
    }
   ],
   "source": [
    "df.head(10)"
   ]
  },
  {
   "cell_type": "code",
   "execution_count": 5,
   "metadata": {},
   "outputs": [],
   "source": [
    "df['COUNTYFP'] = df['county_fips'].apply(lambda x : str(x)[1:])"
   ]
  },
  {
   "cell_type": "code",
   "execution_count": 6,
   "metadata": {},
   "outputs": [],
   "source": [
    "df['date_range_start'] = pd.to_datetime(df['date_range_start']) - pd.to_timedelta(7, unit='d')"
   ]
  },
  {
   "cell_type": "code",
   "execution_count": 7,
   "metadata": {},
   "outputs": [],
   "source": [
    "template = Counter({\"0\":0,\"1-1000\":0,\"1001-2000\":0,\"2001:8000\":0,\"8001-16000\":0,\"16001-50000\":0,\"<50000\": 0})\n",
    "df['bucketed_distance_travelled_counter'] = df['bucketed_distance_travelled'].apply(lambda x : template + Counter(json.loads(x)))"
   ]
  },
  {
   "cell_type": "code",
   "execution_count": 8,
   "metadata": {},
   "outputs": [],
   "source": [
    "df = pd.DataFrame(df.groupby(['COUNTYFP', pd.Grouper(key='date_range_start', freq='W-MON')])['bucketed_distance_travelled_counter'].sum())"
   ]
  },
  {
   "cell_type": "code",
   "execution_count": 9,
   "metadata": {},
   "outputs": [],
   "source": [
    "map = {'0':0, '1-1000':500, '1001-2000':1500, '2001-8000':5000, '8001-16000':12000, '16001-50000':33000, '>50000':50000}\n",
    "\n",
    "def weighted_average(counter):\n",
    "    dic = dict(counter)\n",
    "    sigma, num = 0, 0\n",
    "    for k,v in dic.items():\n",
    "        sigma += map[k]*dic[k]\n",
    "        num += map[k]\n",
    "    return sigma/num"
   ]
  },
  {
   "cell_type": "code",
   "execution_count": 10,
   "metadata": {},
   "outputs": [],
   "source": [
    "df['weighted_avg'] = df['bucketed_distance_travelled_counter'].apply(weighted_average)"
   ]
  },
  {
   "cell_type": "code",
   "execution_count": 11,
   "metadata": {},
   "outputs": [],
   "source": [
    "df.drop('bucketed_distance_travelled_counter',inplace=True,axis=1)"
   ]
  },
  {
   "cell_type": "code",
   "execution_count": 12,
   "metadata": {},
   "outputs": [
    {
     "output_type": "execute_result",
     "data": {
      "text/plain": [
       "                                    weighted_avg\n",
       "COUNTYFP date_range_start                       \n",
       "001      2019-12-16 00:00:00+00:00  25528.950980\n",
       "         2019-12-23 00:00:00+00:00  65313.495098\n",
       "         2019-12-30 00:00:00+00:00  54944.382353\n",
       "         2020-01-06 00:00:00+00:00  47631.475490\n",
       "         2020-01-13 00:00:00+00:00  46065.642157\n",
       "         2020-01-20 00:00:00+00:00  41803.259804\n",
       "         2020-01-27 00:00:00+00:00  43488.553922\n",
       "         2020-02-03 00:00:00+00:00  47493.196078\n",
       "         2020-02-10 00:00:00+00:00  49767.088235\n",
       "         2020-02-17 00:00:00+00:00  47835.965686"
      ],
      "text/html": "<div>\n<style scoped>\n    .dataframe tbody tr th:only-of-type {\n        vertical-align: middle;\n    }\n\n    .dataframe tbody tr th {\n        vertical-align: top;\n    }\n\n    .dataframe thead th {\n        text-align: right;\n    }\n</style>\n<table border=\"1\" class=\"dataframe\">\n  <thead>\n    <tr style=\"text-align: right;\">\n      <th></th>\n      <th></th>\n      <th>weighted_avg</th>\n    </tr>\n    <tr>\n      <th>COUNTYFP</th>\n      <th>date_range_start</th>\n      <th></th>\n    </tr>\n  </thead>\n  <tbody>\n    <tr>\n      <th rowspan=\"10\" valign=\"top\">001</th>\n      <th>2019-12-16 00:00:00+00:00</th>\n      <td>25528.950980</td>\n    </tr>\n    <tr>\n      <th>2019-12-23 00:00:00+00:00</th>\n      <td>65313.495098</td>\n    </tr>\n    <tr>\n      <th>2019-12-30 00:00:00+00:00</th>\n      <td>54944.382353</td>\n    </tr>\n    <tr>\n      <th>2020-01-06 00:00:00+00:00</th>\n      <td>47631.475490</td>\n    </tr>\n    <tr>\n      <th>2020-01-13 00:00:00+00:00</th>\n      <td>46065.642157</td>\n    </tr>\n    <tr>\n      <th>2020-01-20 00:00:00+00:00</th>\n      <td>41803.259804</td>\n    </tr>\n    <tr>\n      <th>2020-01-27 00:00:00+00:00</th>\n      <td>43488.553922</td>\n    </tr>\n    <tr>\n      <th>2020-02-03 00:00:00+00:00</th>\n      <td>47493.196078</td>\n    </tr>\n    <tr>\n      <th>2020-02-10 00:00:00+00:00</th>\n      <td>49767.088235</td>\n    </tr>\n    <tr>\n      <th>2020-02-17 00:00:00+00:00</th>\n      <td>47835.965686</td>\n    </tr>\n  </tbody>\n</table>\n</div>"
     },
     "metadata": {},
     "execution_count": 12
    }
   ],
   "source": [
    "df.head(10)"
   ]
  },
  {
   "cell_type": "code",
   "execution_count": 13,
   "metadata": {},
   "outputs": [],
   "source": [
    "import geopandas as gpd\n",
    "import libpysal as lps\n",
    "from shapely import speedups\n",
    "from esda.moran import Moran\n",
    "from esda.moran import Moran_Local\n",
    "speedups.disable()"
   ]
  },
  {
   "cell_type": "code",
   "execution_count": 14,
   "metadata": {},
   "outputs": [],
   "source": [
    "ca = gpd.read_file(filename=\"./CA_Counties/CA_Counties_TIGER2016.shp\")"
   ]
  },
  {
   "cell_type": "code",
   "execution_count": 15,
   "metadata": {},
   "outputs": [],
   "source": [
    "ca = ca[['COUNTYFP','geometry']].sort_values('COUNTYFP').reset_index(drop=True)"
   ]
  },
  {
   "cell_type": "code",
   "execution_count": 16,
   "metadata": {},
   "outputs": [
    {
     "output_type": "execute_result",
     "data": {
      "text/plain": [
       "  COUNTYFP                                           geometry\n",
       "0      001  POLYGON ((-13612246.763 4538150.085, -13612346...\n",
       "1      003  POLYGON ((-13366503.508 4678946.015, -13366492...\n",
       "2      005  POLYGON ((-13472697.863 4647652.232, -13472697...\n",
       "3      007  POLYGON ((-13565004.793 4798394.124, -13564991...\n",
       "4      009  POLYGON ((-13428575.483 4627725.228, -13428534...\n",
       "5      011  POLYGON ((-13589905.407 4781178.200, -13589880...\n",
       "6      013  POLYGON ((-13610773.230 4565908.502, -13610791...\n",
       "7      015  POLYGON ((-13838807.959 5120380.774, -13840421...\n",
       "8      017  POLYGON ((-13482864.232 4681232.507, -13482880...\n",
       "9      019  POLYGON ((-13325540.690 4439078.780, -13325502..."
      ],
      "text/html": "<div>\n<style scoped>\n    .dataframe tbody tr th:only-of-type {\n        vertical-align: middle;\n    }\n\n    .dataframe tbody tr th {\n        vertical-align: top;\n    }\n\n    .dataframe thead th {\n        text-align: right;\n    }\n</style>\n<table border=\"1\" class=\"dataframe\">\n  <thead>\n    <tr style=\"text-align: right;\">\n      <th></th>\n      <th>COUNTYFP</th>\n      <th>geometry</th>\n    </tr>\n  </thead>\n  <tbody>\n    <tr>\n      <th>0</th>\n      <td>001</td>\n      <td>POLYGON ((-13612246.763 4538150.085, -13612346...</td>\n    </tr>\n    <tr>\n      <th>1</th>\n      <td>003</td>\n      <td>POLYGON ((-13366503.508 4678946.015, -13366492...</td>\n    </tr>\n    <tr>\n      <th>2</th>\n      <td>005</td>\n      <td>POLYGON ((-13472697.863 4647652.232, -13472697...</td>\n    </tr>\n    <tr>\n      <th>3</th>\n      <td>007</td>\n      <td>POLYGON ((-13565004.793 4798394.124, -13564991...</td>\n    </tr>\n    <tr>\n      <th>4</th>\n      <td>009</td>\n      <td>POLYGON ((-13428575.483 4627725.228, -13428534...</td>\n    </tr>\n    <tr>\n      <th>5</th>\n      <td>011</td>\n      <td>POLYGON ((-13589905.407 4781178.200, -13589880...</td>\n    </tr>\n    <tr>\n      <th>6</th>\n      <td>013</td>\n      <td>POLYGON ((-13610773.230 4565908.502, -13610791...</td>\n    </tr>\n    <tr>\n      <th>7</th>\n      <td>015</td>\n      <td>POLYGON ((-13838807.959 5120380.774, -13840421...</td>\n    </tr>\n    <tr>\n      <th>8</th>\n      <td>017</td>\n      <td>POLYGON ((-13482864.232 4681232.507, -13482880...</td>\n    </tr>\n    <tr>\n      <th>9</th>\n      <td>019</td>\n      <td>POLYGON ((-13325540.690 4439078.780, -13325502...</td>\n    </tr>\n  </tbody>\n</table>\n</div>"
     },
     "metadata": {},
     "execution_count": 16
    }
   ],
   "source": [
    "ca.head(10)"
   ]
  },
  {
   "cell_type": "code",
   "execution_count": 17,
   "metadata": {},
   "outputs": [],
   "source": [
    "wq = lps.weights.Queen.from_dataframe(df=ca,geom_col='geometry',idVariable='COUNTYFP')\n",
    "wq.transform = 'r'"
   ]
  },
  {
   "cell_type": "code",
   "execution_count": 18,
   "metadata": {},
   "outputs": [],
   "source": [
    "df = df.join(ca.set_index('COUNTYFP'), on='COUNTYFP').reset_index()"
   ]
  },
  {
   "cell_type": "code",
   "execution_count": 19,
   "metadata": {},
   "outputs": [],
   "source": [
    "df[['lagged_weighted_avg','Moran I','LISA','LISA q','Moran p']] = ''"
   ]
  },
  {
   "cell_type": "code",
   "execution_count": 20,
   "metadata": {},
   "outputs": [],
   "source": [
    "dates = df['date_range_start'].unique()"
   ]
  },
  {
   "cell_type": "code",
   "execution_count": 21,
   "metadata": {},
   "outputs": [],
   "source": [
    "for date in dates:\n",
    "    date_slice = df[df['date_range_start'] == date]\n",
    "    y = date_slice['weighted_avg']\n",
    "    ylag = lps.weights.lag_spatial(wq, y)\n",
    "    mi = Moran(y,wq)\n",
    "    mli = Moran_Local(y,wq)\n",
    "    \n",
    "    df.loc[df['date_range_start']==date,'lagged_weighted_avg'] = ylag\n",
    "    df.loc[df['date_range_start']==date,'Moran I'] = mi.I\n",
    "    df.loc[df['date_range_start']==date,'LISA'] = mli.Is\n",
    "    df.loc[df['date_range_start']==date,'LISA q'] = mli.q\n",
    "    df.loc[df['date_range_start']==date,'Moran p'] = mi.p_sim"
   ]
  },
  {
   "cell_type": "code",
   "execution_count": 22,
   "metadata": {},
   "outputs": [],
   "source": [
    "df['significant'] = df['Moran p'].apply(lambda x : 1*(x<0.05))"
   ]
  },
  {
   "cell_type": "code",
   "execution_count": 23,
   "metadata": {},
   "outputs": [],
   "source": [
    "df.drop('geometry',axis=1,inplace=True)"
   ]
  },
  {
   "cell_type": "code",
   "execution_count": 24,
   "metadata": {},
   "outputs": [],
   "source": [
    "df['date_range_start'] = df['date_range_start'].apply(lambda x : str(x))"
   ]
  },
  {
   "cell_type": "code",
   "execution_count": 25,
   "metadata": {},
   "outputs": [
    {
     "output_type": "execute_result",
     "data": {
      "text/plain": [
       "  COUNTYFP           date_range_start  weighted_avg lagged_weighted_avg  \\\n",
       "0      001  2019-12-16 00:00:00+00:00  25528.950980        15965.642974   \n",
       "1      001  2019-12-23 00:00:00+00:00  65313.495098        40743.438725   \n",
       "2      001  2019-12-30 00:00:00+00:00  54944.382353        35211.428922   \n",
       "3      001  2020-01-06 00:00:00+00:00  47631.475490        29524.928105   \n",
       "4      001  2020-01-13 00:00:00+00:00  46065.642157        29061.624183   \n",
       "5      001  2020-01-20 00:00:00+00:00  41803.259804        27713.006536   \n",
       "6      001  2020-01-27 00:00:00+00:00  43488.553922        28540.440359   \n",
       "7      001  2020-02-03 00:00:00+00:00  47493.196078        31354.585784   \n",
       "8      001  2020-02-10 00:00:00+00:00  49767.088235        33625.415033   \n",
       "9      001  2020-02-17 00:00:00+00:00  47835.965686        32769.132353   \n",
       "\n",
       "    Moran I      LISA LISA q Moran p  significant  \n",
       "0  0.390357  0.165009      1   0.001            1  \n",
       "1  0.388815  0.193931      1   0.001            1  \n",
       "2  0.406276  0.170086      1   0.001            1  \n",
       "3   0.41075   0.13697      1   0.001            1  \n",
       "4  0.427169   0.14396      1   0.001            1  \n",
       "5  0.428373  0.134441      1   0.002            1  \n",
       "6  0.424496   0.12826      1   0.001            1  \n",
       "7  0.424463  0.131799      1   0.001            1  \n",
       "8  0.429511  0.152243      1   0.001            1  \n",
       "9  0.431044  0.156055      1   0.001            1  "
      ],
      "text/html": "<div>\n<style scoped>\n    .dataframe tbody tr th:only-of-type {\n        vertical-align: middle;\n    }\n\n    .dataframe tbody tr th {\n        vertical-align: top;\n    }\n\n    .dataframe thead th {\n        text-align: right;\n    }\n</style>\n<table border=\"1\" class=\"dataframe\">\n  <thead>\n    <tr style=\"text-align: right;\">\n      <th></th>\n      <th>COUNTYFP</th>\n      <th>date_range_start</th>\n      <th>weighted_avg</th>\n      <th>lagged_weighted_avg</th>\n      <th>Moran I</th>\n      <th>LISA</th>\n      <th>LISA q</th>\n      <th>Moran p</th>\n      <th>significant</th>\n    </tr>\n  </thead>\n  <tbody>\n    <tr>\n      <th>0</th>\n      <td>001</td>\n      <td>2019-12-16 00:00:00+00:00</td>\n      <td>25528.950980</td>\n      <td>15965.642974</td>\n      <td>0.390357</td>\n      <td>0.165009</td>\n      <td>1</td>\n      <td>0.001</td>\n      <td>1</td>\n    </tr>\n    <tr>\n      <th>1</th>\n      <td>001</td>\n      <td>2019-12-23 00:00:00+00:00</td>\n      <td>65313.495098</td>\n      <td>40743.438725</td>\n      <td>0.388815</td>\n      <td>0.193931</td>\n      <td>1</td>\n      <td>0.001</td>\n      <td>1</td>\n    </tr>\n    <tr>\n      <th>2</th>\n      <td>001</td>\n      <td>2019-12-30 00:00:00+00:00</td>\n      <td>54944.382353</td>\n      <td>35211.428922</td>\n      <td>0.406276</td>\n      <td>0.170086</td>\n      <td>1</td>\n      <td>0.001</td>\n      <td>1</td>\n    </tr>\n    <tr>\n      <th>3</th>\n      <td>001</td>\n      <td>2020-01-06 00:00:00+00:00</td>\n      <td>47631.475490</td>\n      <td>29524.928105</td>\n      <td>0.41075</td>\n      <td>0.13697</td>\n      <td>1</td>\n      <td>0.001</td>\n      <td>1</td>\n    </tr>\n    <tr>\n      <th>4</th>\n      <td>001</td>\n      <td>2020-01-13 00:00:00+00:00</td>\n      <td>46065.642157</td>\n      <td>29061.624183</td>\n      <td>0.427169</td>\n      <td>0.14396</td>\n      <td>1</td>\n      <td>0.001</td>\n      <td>1</td>\n    </tr>\n    <tr>\n      <th>5</th>\n      <td>001</td>\n      <td>2020-01-20 00:00:00+00:00</td>\n      <td>41803.259804</td>\n      <td>27713.006536</td>\n      <td>0.428373</td>\n      <td>0.134441</td>\n      <td>1</td>\n      <td>0.002</td>\n      <td>1</td>\n    </tr>\n    <tr>\n      <th>6</th>\n      <td>001</td>\n      <td>2020-01-27 00:00:00+00:00</td>\n      <td>43488.553922</td>\n      <td>28540.440359</td>\n      <td>0.424496</td>\n      <td>0.12826</td>\n      <td>1</td>\n      <td>0.001</td>\n      <td>1</td>\n    </tr>\n    <tr>\n      <th>7</th>\n      <td>001</td>\n      <td>2020-02-03 00:00:00+00:00</td>\n      <td>47493.196078</td>\n      <td>31354.585784</td>\n      <td>0.424463</td>\n      <td>0.131799</td>\n      <td>1</td>\n      <td>0.001</td>\n      <td>1</td>\n    </tr>\n    <tr>\n      <th>8</th>\n      <td>001</td>\n      <td>2020-02-10 00:00:00+00:00</td>\n      <td>49767.088235</td>\n      <td>33625.415033</td>\n      <td>0.429511</td>\n      <td>0.152243</td>\n      <td>1</td>\n      <td>0.001</td>\n      <td>1</td>\n    </tr>\n    <tr>\n      <th>9</th>\n      <td>001</td>\n      <td>2020-02-17 00:00:00+00:00</td>\n      <td>47835.965686</td>\n      <td>32769.132353</td>\n      <td>0.431044</td>\n      <td>0.156055</td>\n      <td>1</td>\n      <td>0.001</td>\n      <td>1</td>\n    </tr>\n  </tbody>\n</table>\n</div>"
     },
     "metadata": {},
     "execution_count": 25
    }
   ],
   "source": [
    "df.head(10)"
   ]
  },
  {
   "cell_type": "code",
   "execution_count": 26,
   "metadata": {},
   "outputs": [],
   "source": [
    "df.to_excel(\"processed.xlsx\")"
   ]
  }
 ]
}